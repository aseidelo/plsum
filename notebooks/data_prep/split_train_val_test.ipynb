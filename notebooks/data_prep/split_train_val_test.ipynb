{
 "cells": [
  {
   "cell_type": "code",
   "execution_count": 1,
   "id": "41a05983-442b-4374-adab-ef72fdd493cf",
   "metadata": {},
   "outputs": [],
   "source": [
    "import random\n",
    "import pandas as pd\n",
    "from codecs import open\n",
    "import json"
   ]
  },
  {
   "cell_type": "code",
   "execution_count": 2,
   "id": "45ef33f1-4fab-47c1-8259-4bc3930ef1b0",
   "metadata": {},
   "outputs": [],
   "source": [
    "def load_set(file_name):\n",
    "    to_out = []\n",
    "    with open(file_name, 'r', encoding=\"utf-8\") as file:\n",
    "        for line in file:\n",
    "            to_out.append(line)\n",
    "    return to_out\n",
    "\n",
    "def load_titles(file_name):\n",
    "    to_out = []\n",
    "    with open(file_name, 'r', encoding=\"utf-8\") as file:\n",
    "        for line in file:\n",
    "            content = json.loads(line)\n",
    "            title = content['wiki_title'] + '\\n'\n",
    "            to_out.append(title)\n",
    "    return to_out\n",
    "\n",
    "        \n",
    "def save_set(file_name, str_list):\n",
    "    with open(file_name, 'wb') as file:\n",
    "        for line in str_list:\n",
    "            file.write('{}'.format(line).encode('utf-8'))\n",
    "\n",
    "#index_input = load_set('../../data/extractive_stage/input_with_punc.csv2000.index')\n",
    "#tfidf_input = load_set('../../data/extractive_stage/input_with_punc.csv2000.tfidf')\n",
    "#cheating_input = load_set('../../data/extractive_stage/input_with_punc.csv2000.cheating')\n",
    "#inputs = load_set('../../data/wikisum_ptbr/input_with_punc.csv')\n",
    "#titles = load_titles('../../data/wikisum_ptbr/docids_with_punc.json')\n",
    "#target = load_set('../../data/wikisum_ptbr/output_with_punc.csv')\n"
   ]
  },
  {
   "cell_type": "code",
   "execution_count": 3,
   "id": "bcc4177c-a1b6-452b-8c38-c6a22be24766",
   "metadata": {},
   "outputs": [
    {
     "name": "stdout",
     "output_type": "stream",
     "text": [
      "114652 114652 114652 114652\n"
     ]
    }
   ],
   "source": [
    "print(len(index_input), len(tfidf_input), len(cheating_input), len(target))\n",
    "df = pd.DataFrame({'title' : titles, 'index':index_input, 'tfidf':tfidf_input, 'cheating':cheating_input, 'target':target})"
   ]
  },
  {
   "cell_type": "code",
   "execution_count": 8,
   "id": "591bc31d-86b3-4a8c-9e66-3c4904a9dc46",
   "metadata": {},
   "outputs": [],
   "source": [
    "train_valid=df.sample(frac=0.9,random_state=200) #random state is a seed value\n",
    "test=df.drop(train_valid.index)"
   ]
  },
  {
   "cell_type": "code",
   "execution_count": 9,
   "id": "1374d53e-3d8c-4733-839c-67f725157877",
   "metadata": {},
   "outputs": [
    {
     "name": "stdout",
     "output_type": "stream",
     "text": [
      "103187\n",
      "11465\n"
     ]
    }
   ],
   "source": [
    "print(len(train_valid))\n",
    "print(len(test))"
   ]
  },
  {
   "cell_type": "code",
   "execution_count": 10,
   "id": "8c3336ca-8147-4855-8092-20bcc23e357d",
   "metadata": {},
   "outputs": [],
   "source": [
    "save_set('../../data/extractive_stage/train_with_punc_title', train_valid['title'])\n",
    "save_set('../../data/extractive_stage/train_with_punc_index', train_valid['index'])\n",
    "save_set('../../data/extractive_stage/train_with_punc_tfidf', train_valid['tfidf'])\n",
    "save_set('../../data/extractive_stage/train_with_punc_cheating', train_valid['cheating'])\n",
    "save_set('../../data/wikisum_ptbr/train_with_punc_target', train_valid['target'])\n",
    "save_set('../../data/extractive_stage/test_with_punc_title', test['title'])\n",
    "save_set('../../data/extractive_stage/test_with_punc_index', test['index'])\n",
    "save_set('../../data/extractive_stage/test_with_punc_tfidf', test['tfidf'])\n",
    "save_set('../../data/extractive_stage/test_with_punc_cheating', test['cheating'])\n",
    "save_set('../../data/wikisum_ptbr/test_with_punc_target', test['target'])\n"
   ]
  },
  {
   "cell_type": "code",
   "execution_count": 13,
   "id": "20d72efc-6d2c-496d-b8b0-907b2710d99e",
   "metadata": {},
   "outputs": [],
   "source": [
    "# save testset inputs with max 500 words \n",
    "def limit_input(input_list, max_words=500, sep='</s>'):\n",
    "    to_out = []\n",
    "    for line in input_list:\n",
    "        limited = ''\n",
    "        sentences = line.split(sep)\n",
    "        n = 0\n",
    "        for sent in sentences:\n",
    "            n = n + len(sent.split(' '))\n",
    "            if n > max_words:\n",
    "                break\n",
    "            limited = limited + sent + sep\n",
    "        limited = limited + '\\n'\n",
    "        to_out.append(limited)\n",
    "    return to_out\n",
    "\n",
    "#save_set('../../data/extractive_stage/500words_test_with_punc_index', limit_input(test['index']))\n",
    "#save_set('../../data/extractive_stage/500words_test_with_punc_tfidf', limit_input(test['tfidf']))\n",
    "#save_set('../../data/extractive_stage/500words_test_with_punc_cheating', limit_input(test['cheating']))\n"
   ]
  },
  {
   "cell_type": "code",
   "execution_count": 16,
   "id": "a50a474e-6e24-452c-bb68-eb0c344ca11b",
   "metadata": {},
   "outputs": [
    {
     "name": "stdout",
     "output_type": "stream",
     "text": [
      "N, rouge1, rouge2, rougeL\n",
      "0 0.0 0.0 0.0\n",
      "100 0.18758376133914922 0.031462773768792834 0.12252644225453496\n",
      "200 0.3190846821400905 0.05402911828563653 0.1964732414654826\n",
      "300 0.3889992055850368 0.06992636932096458 0.23948925410026986\n",
      "400 0.4332710837692165 0.0824890643426209 0.2694956541586987\n",
      "500 0.46508473227742186 0.0933206278262835 0.29309370471197527\n",
      "600 0.488806336771594 0.10248409227939825 0.31188606039569655\n",
      "700 0.5080385689753523 0.11078497074642885 0.3277153922388222\n",
      "800 0.5234194245756425 0.11789888892247812 0.3410507275947761\n",
      "900 0.5365856134074828 0.12448861985050867 0.35308959254194383\n",
      "1000 0.5478384572978274 0.1304767654442074 0.36365767757307366\n",
      "1100 0.5551131772814504 0.13450104454827844 0.3703694577225141\n",
      "1200 0.555246331881869 0.1345683678243751 0.3704637899319079\n",
      "1300 0.5552791039594387 0.13457494747210375 0.37048980719186897\n",
      "1400 0.5552822190301508 0.13458075167888023 0.3705038894628797\n",
      "1500 0.5552865620180203 0.13458075167888023 0.370508984330826\n",
      "1600 0.5552923293174631 0.13458075167888023 0.3705127788636029\n",
      "1700 0.5552923293174631 0.13458075167888023 0.37051572842680214\n",
      "1800 0.5552927236134135 0.13458075167888023 0.37052012606799367\n",
      "1900 0.555300606973566 0.13458731027210222 0.3705270734189814\n"
     ]
    }
   ],
   "source": [
    "from datasets import load_metric\n",
    "\n",
    "test_target = load_set('../../data/wikisum_ptbr/test_with_punc_target')\n",
    "\n",
    "# load rouge\n",
    "rouge = load_metric(\"rouge\")\n",
    "\n",
    "# calculate rouge1 recall for different tfidf sizes\n",
    "N = [100*i for i in range(20)]\n",
    "print('N, rouge1, rouge2, rougeL')\n",
    "for n in N:\n",
    "    limited_tfidf = limit_input(test['tfidf'], max_words=n)\n",
    "    test_df = pd.DataFrame({'document' : limited_tfidf, 'summary' : test_target})\n",
    "    results = rouge.compute(predictions=test_df[\"document\"], references=test_df[\"summary\"], rouge_types=[\"rouge1\", \"rouge2\", \"rougeL\"])\n",
    "    rouge1R = results[\"rouge1\"].mid.recall\n",
    "    rouge2R = results[\"rouge2\"].mid.recall\n",
    "    rougeLR = results[\"rougeL\"].mid.recall\n",
    "    # print rouge results\n",
    "    print(n, rouge1R, rouge2R, rougeLR)"
   ]
  },
  {
   "cell_type": "code",
   "execution_count": 3,
   "id": "f86312ee-5565-41cb-be2b-2a3be87fd954",
   "metadata": {},
   "outputs": [
    {
     "name": "stdout",
     "output_type": "stream",
     "text": [
      "114652 114652\n"
     ]
    }
   ],
   "source": [
    "import random\n",
    "\n",
    "random.seed(200)\n",
    "\n",
    "# different way: first divide indexes and then divide files\n",
    "indexes = [i for i in range(114652)]\n",
    "random.shuffle(indexes)\n",
    "n_train = int(len(indexes)*0.9)\n",
    "train_indexes = indexes[0:n_train]\n",
    "test_indexes = indexes[n_train:]\n",
    "print(len(indexes), len(train_indexes) + len(test_indexes))\n"
   ]
  },
  {
   "cell_type": "code",
   "execution_count": 5,
   "id": "189f84d4-ac2e-4a7d-bd46-f700472ce2c1",
   "metadata": {},
   "outputs": [
    {
     "name": "stdout",
     "output_type": "stream",
     "text": [
      "0\n",
      "10000\n",
      "20000\n",
      "30000\n",
      "40000\n",
      "50000\n",
      "60000\n",
      "70000\n",
      "80000\n",
      "90000\n",
      "100000\n",
      "110000\n"
     ]
    }
   ],
   "source": [
    "#inputs = load_set('../../data/wikisum_ptbr/input_with_punc.csv')\n",
    "#titles = load_titles('../../data/wikisum_ptbr/docids_with_punc.json')\n",
    "#target = load_set('../../data/wikisum_ptbr/output_with_punc.csv')\n",
    "\n",
    "# input files\n",
    "with open('../../data/wikisum_ptbr/input_with_punc.csv','r') as input_f:\n",
    "    with open('../../data/wikisum_ptbr/docids_with_punc.json','r') as titles_f:\n",
    "        with open('../../data/wikisum_ptbr/output_with_punc.csv','r') as output_f:\n",
    "            #output files\n",
    "            with open('../../data/wikisum_ptbr/train_test_split/input_train.csv','w') as train_input_f:\n",
    "                with open('../../data/wikisum_ptbr/train_test_split/docids_train.json','w') as train_titles_f:\n",
    "                    with open('../../data/wikisum_ptbr/train_test_split/output_train.csv','w') as train_output_f:\n",
    "                        with open('../../data/wikisum_ptbr/train_test_split/input_test.csv','w') as test_input_f:\n",
    "                            with open('../../data/wikisum_ptbr/train_test_split/docids_test.json','w') as test_titles_f:\n",
    "                                with open('../../data/wikisum_ptbr/train_test_split/output_test.csv','w') as test_output_f:\n",
    "                                    for i in range(len(indexes)):\n",
    "                                        if(i%10000==0):\n",
    "                                            print(i)\n",
    "                                        input_line = input_f.readline()\n",
    "                                        docids_line = titles_f.readline()\n",
    "                                        output_line = output_f.readline()\n",
    "                                        if(i in train_indexes):\n",
    "                                            train_input_f.write(input_line)\n",
    "                                            train_titles_f.write(docids_line)\n",
    "                                            train_output_f.write(output_line)\n",
    "                                        else:\n",
    "                                            test_input_f.write(input_line)\n",
    "                                            test_titles_f.write(docids_line)\n",
    "                                            test_output_f.write(output_line)                                            \n"
   ]
  },
  {
   "cell_type": "code",
   "execution_count": null,
   "id": "2d6c7016-1cc7-4d9c-809a-e6d34d31cf4f",
   "metadata": {},
   "outputs": [],
   "source": []
  }
 ],
 "metadata": {
  "kernelspec": {
   "display_name": "Python 3",
   "language": "python",
   "name": "python3"
  },
  "language_info": {
   "codemirror_mode": {
    "name": "ipython",
    "version": 3
   },
   "file_extension": ".py",
   "mimetype": "text/x-python",
   "name": "python",
   "nbconvert_exporter": "python",
   "pygments_lexer": "ipython3",
   "version": "3.8.10"
  }
 },
 "nbformat": 4,
 "nbformat_minor": 5
}
