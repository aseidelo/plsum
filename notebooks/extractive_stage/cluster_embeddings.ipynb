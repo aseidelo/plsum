{
 "cells": [
  {
   "cell_type": "code",
   "execution_count": 5,
   "id": "45f8df77-229d-43e5-b3f0-a2f726492ccd",
   "metadata": {},
   "outputs": [],
   "source": [
    "# load dataset\n",
    "input_file_path = \"../../data/wikisum_ptbr/train_test_split/input_train.csv\"\n",
    "output_file_path = \"../../data/wikisum_ptbr/train_test_split/output_test.csv\"\n",
    "\n",
    "\n",
    "def split_sentences(doc):\n",
    "    to_out_docs = []\n",
    "    for sentence in doc.split('.'):\n",
    "        if (len(sentence.split(' ')) > 3): # at least 5 tokens in 1 sentence\n",
    "            to_out_docs.append(sentence.replace('\\n', ''))\n",
    "    return to_out_docs\n",
    "\n",
    "def load_example():\n",
    "    with open(output_file_path, \"r\") as output_f:\n",
    "        with open(input_file_path, \"r\") as input_f:\n",
    "            for input_line in input_f:\n",
    "                output_line = output_f.readline()\n",
    "                input_titlesentences = input_line.split('</s>')\n",
    "                title = input_titlesentences[0]\n",
    "                input_sentences_str = input_titlesentences[1]\n",
    "                input_sentences = input_sentences_str.split('<\\s>')\n",
    "                output_sentences = split_sentences(output_line)\n",
    "                yield {'title' : title, 'input_sentences' : input_sentences, 'output_sentences' : output_sentences}"
   ]
  },
  {
   "cell_type": "code",
   "execution_count": 6,
   "id": "e22c5c15-d6f7-42c9-b312-199d77a2c5bd",
   "metadata": {},
   "outputs": [
    {
     "name": "stderr",
     "output_type": "stream",
     "text": [
      "IOPub data rate exceeded.\n",
      "The Jupyter server will temporarily stop sending output\n",
      "to the client in order to avoid crashing it.\n",
      "To change this limit, set the config variable\n",
      "`--ServerApp.iopub_data_rate_limit`.\n",
      "\n",
      "Current values:\n",
      "ServerApp.iopub_data_rate_limit=1000000.0 (bytes/sec)\n",
      "ServerApp.rate_limit_window=3.0 (secs)\n",
      "\n"
     ]
    }
   ],
   "source": [
    "# generate embedding representations\n",
    "for example in load_example():\n",
    "    print(example)\n",
    "# - input sentences\n",
    "# - title\n",
    "# - summary sentences\n",
    "# save in file"
   ]
  },
  {
   "cell_type": "code",
   "execution_count": 3,
   "id": "aa1eccb2-daad-48cd-8318-a68821acb43e",
   "metadata": {},
   "outputs": [],
   "source": [
    "# for each example:\n",
    "# - load embeddings\n",
    "# - cluster embeddings\n",
    "# fine tune and validation of cluster algo. params.:\n",
    "# compare summary sentences embeddings with input sentence\n",
    "# choose cluster params. that minimizes the minimum distance cluster-summary sentence x n clusters\n",
    "# return:\n",
    "# - Nmax cluster embeddings and Nmax sentences closest to cluster centroid"
   ]
  },
  {
   "cell_type": "code",
   "execution_count": 4,
   "id": "be7c72b1-3cda-4799-8809-d091f99643c1",
   "metadata": {},
   "outputs": [],
   "source": []
  },
  {
   "cell_type": "code",
   "execution_count": null,
   "id": "e76c1255-c908-46da-a68c-0b531d8af6b5",
   "metadata": {},
   "outputs": [],
   "source": []
  }
 ],
 "metadata": {
  "kernelspec": {
   "display_name": "nlpenv",
   "language": "python",
   "name": "nlpenv"
  },
  "language_info": {
   "codemirror_mode": {
    "name": "ipython",
    "version": 3
   },
   "file_extension": ".py",
   "mimetype": "text/x-python",
   "name": "python",
   "nbconvert_exporter": "python",
   "pygments_lexer": "ipython3",
   "version": "3.8.10"
  }
 },
 "nbformat": 4,
 "nbformat_minor": 5
}
